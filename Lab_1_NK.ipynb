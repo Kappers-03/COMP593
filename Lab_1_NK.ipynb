{
  "nbformat": 4,
  "nbformat_minor": 0,
  "metadata": {
    "colab": {
      "name": "WEEK 1 WELCOME TO COLAB",
      "provenance": [],
      "collapsed_sections": [],
      "toc_visible": true,
      "include_colab_link": true
    },
    "kernelspec": {
      "display_name": "Python 3",
      "name": "python3"
    }
  },
  "cells": [
    {
      "cell_type": "markdown",
      "metadata": {
        "id": "view-in-github",
        "colab_type": "text"
      },
      "source": [
        "<a href=\"https://colab.research.google.com/github/Kappers-03/COMP593/blob/Lab1/Lab_1_NK.ipynb\" target=\"_parent\"><img src=\"https://colab.research.google.com/assets/colab-badge.svg\" alt=\"Open In Colab\"/></a>"
      ]
    },
    {
      "cell_type": "markdown",
      "metadata": {
        "id": "GJBs_flRovLc"
      },
      "source": [
        "## **Welcome to COMP 593!**\n",
        "\n",
        "For your first lab, we will experiment with running a script, and saving our project to our personal github repositories:"
      ]
    },
    {
      "cell_type": "markdown",
      "metadata": {
        "id": "xn279PBwVnDj"
      },
      "source": [
        "##Installing Dependancies##\n",
        "\n",
        "Dependancies are routines, Objects, and methods that a project requires. We add Dependancies to our project in the form of **Libraries** when we want to unlock functionality that already exists, this could be as simple as file IO or as complex as fully fledged Machine Learning libraries. Libraries can be added to our project manually, by downloading them and placing them in our runtime enviornment, or using a **Package Manager** such as PIP."
      ]
    },
    {
      "cell_type": "markdown",
      "metadata": {
        "id": "-IWb3REjW5T0"
      },
      "source": [
        "Run the below code to download the **pyfiglet** library, which we will use to generate some ASCII art."
      ]
    },
    {
      "cell_type": "code",
      "metadata": {
        "id": "ARUZhh6MS7nA",
        "colab": {
          "base_uri": "https://localhost:8080/"
        },
        "outputId": "f85fbc47-c053-4f6b-fbae-d884004af01c"
      },
      "source": [
        "pip install pyfiglet\n"
      ],
      "execution_count": null,
      "outputs": [
        {
          "output_type": "stream",
          "text": [
            "Requirement already satisfied: pyfiglet in /usr/local/lib/python3.6/dist-packages (0.8.post1)\n"
          ],
          "name": "stdout"
        }
      ]
    },
    {
      "cell_type": "markdown",
      "metadata": {
        "id": "SNXKhb5XXqF4"
      },
      "source": [
        "There are *hundreds of thousands* of python libraries at your disposal. Some may suit your needs better than others depending on the goals of your scripts or applications. The [PyPi Repository](https://https://pypi.org/) contains a serchable database of packages that are installable via the pip package manager.\n",
        "\n",
        "Run the code below to get an idea of the number of packages that are included for your user within Colab. You don't need to know what all of these do, but it should indicate that python is a very powerful language."
      ]
    },
    {
      "cell_type": "code",
      "metadata": {
        "id": "C7A8viiJXiDs"
      },
      "source": [
        "pip list"
      ],
      "execution_count": null,
      "outputs": []
    },
    {
      "cell_type": "markdown",
      "metadata": {
        "id": "zopYZ3PcY6hR"
      },
      "source": [
        "If you would like to see if pyfiglet was installed, you could scan the list above, or you could **pipe** the output of `pip list` to a console command known as `grep` that will filter for specific strings. This is an example of **redirecting output,** which you have learned about already.\n",
        "\n",
        "\n"
      ]
    },
    {
      "cell_type": "code",
      "metadata": {
        "id": "oAMcMjbLZMIE",
        "outputId": "1ebd00d6-cf34-4008-a1fd-c93e3d57e304",
        "colab": {
          "base_uri": "https://localhost:8080/"
        }
      },
      "source": [
        "pip list | grep pyfiglet "
      ],
      "execution_count": null,
      "outputs": [
        {
          "output_type": "stream",
          "name": "stdout",
          "text": [
            "pyfiglet                      0.8.post1\n"
          ]
        }
      ]
    },
    {
      "cell_type": "markdown",
      "metadata": {
        "id": "gt5dp771Yc2c"
      },
      "source": [
        "# Writing Our Script"
      ]
    },
    {
      "cell_type": "markdown",
      "metadata": {
        "id": "Hh36394HaB3g"
      },
      "source": [
        "The intention of this Colab introduction is to get you familiar with using google Colab to accomplish scripting goals. Today, we will be using the `pyfiglet` library we have just installed to output some text. To understand the methods available to us in `pyfiglet` we can look up [the github repository.](https://github.com/pwaller/pyfiglet)\n",
        "\n",
        "***Remember: Since open source packages are at the mercy of their developers or maintainers, comprehensive documentation is never a guarantee.***\n",
        "\n",
        "The help documentation outlines a command line `--help` argument, which means that documentation exists. We can't call command line arguments for imported libraries in colab, but we *can* accomplish the same goal in colab by using the python `help([Object])` function."
      ]
    },
    {
      "cell_type": "code",
      "metadata": {
        "id": "zR6mZpfkgRxd",
        "outputId": "ffe9a48f-4f21-41f0-aed7-dfbb2dc636ef",
        "colab": {
          "base_uri": "https://localhost:8080/"
        }
      },
      "source": [
        "from pyfiglet import Figlet\n",
        "\n",
        "help(Figlet)"
      ],
      "execution_count": null,
      "outputs": [
        {
          "output_type": "stream",
          "name": "stdout",
          "text": [
            "Help on class Figlet in module pyfiglet:\n",
            "\n",
            "class Figlet(builtins.object)\n",
            " |  Figlet(font='standard', direction='auto', justify='auto', width=80)\n",
            " |  \n",
            " |  Main figlet class.\n",
            " |  \n",
            " |  Methods defined here:\n",
            " |  \n",
            " |  __init__(self, font='standard', direction='auto', justify='auto', width=80)\n",
            " |      Initialize self.  See help(type(self)) for accurate signature.\n",
            " |  \n",
            " |  getDirection(self)\n",
            " |  \n",
            " |  getFonts(self)\n",
            " |  \n",
            " |  getJustify(self)\n",
            " |  \n",
            " |  renderText(self, text)\n",
            " |  \n",
            " |  setFont(self, **kwargs)\n",
            " |  \n",
            " |  ----------------------------------------------------------------------\n",
            " |  Data descriptors defined here:\n",
            " |  \n",
            " |  __dict__\n",
            " |      dictionary for instance variables (if defined)\n",
            " |  \n",
            " |  __weakref__\n",
            " |      list of weak references to the object (if defined)\n",
            " |  \n",
            " |  direction\n",
            " |  \n",
            " |  justify\n",
            "\n"
          ]
        }
      ]
    },
    {
      "cell_type": "markdown",
      "metadata": {
        "id": "UxKlfQJrmq4N"
      },
      "source": [
        "Using this function we can see that the `Figlet` object has several methods available. This will bring us to your task:\n",
        "\n",
        "\n",
        "**In the editor below, finish a script that accomplishes the following goals:**\n",
        "\n",
        "1.   Prompt the user to select from a list of 5 fonts.\n",
        "2.   Prompt the user to input the string they would like output in that font.\n",
        "3.   Render the text using the selected font.\n",
        "\n",
        "*Hint:* Call the `getFonts()` method to get a list of the available fonts."
      ]
    },
    {
      "cell_type": "code",
      "metadata": {
        "id": "b2y8sufRoEpR",
        "outputId": "b7423e2c-2f25-4d9f-a97d-addcdd47c774",
        "colab": {
          "base_uri": "https://localhost:8080/"
        }
      },
      "source": [
        "from pyfiglet import Figlet\n",
        "\n",
        "# Instantiate a Figlet Object\n",
        "figlet = Figlet()\n",
        "\n",
        "# Get the fonts\n",
        "figlet.getFonts()\n",
        "\n",
        "# Prompt the user to select a font\n",
        "selectedFont = int(input(\"Select a font: \\n 1. Whimsy  \\n 2. Slant \\n 3. Goofy \\n 4. Star Wars \\n >>> \"))\n",
        "\n",
        "# If statement for the selected font\n",
        "if selectedFont == 1:\n",
        "  figlet.setFont(font = 'whimsy')    \n",
        "elif selectedFont == 2:\n",
        "  figlet.setFont(font = 'slant')\n",
        "elif selectedFont == 3:\n",
        "  figlet.setFont(font = 'goofy')\n",
        "elif selectedFont == 4:\n",
        "  figlet.setFont(font = \"starwars\")\n",
        "\n",
        "# Prompt the user to type a message\n",
        "userInput = input('Please type your message:')\n",
        "\n",
        "#  Gather the font and inputed text\n",
        "textArt = figlet.renderText(userInput)\n",
        "\n",
        "# Print out the text with font\n",
        "print(textArt)"
      ],
      "execution_count": null,
      "outputs": [
        {
          "output_type": "stream",
          "name": "stdout",
          "text": [
            "Select a font: \n",
            " 1. Whimsy  \n",
            " 2. Slant \n",
            " 3. Goofy \n",
            " 4. Star Wars \n",
            " >>> 4\n",
            "Please type your message:Testing one two three four five six\n",
            ".___________. _______     _______.___________. __  .__   __.   _______ \n",
            "|           ||   ____|   /       |           ||  | |  \\ |  |  /  _____|\n",
            "`---|  |----`|  |__     |   (----`---|  |----`|  | |   \\|  | |  |  __  \n",
            "    |  |     |   __|     \\   \\       |  |     |  | |  . `  | |  | |_ | \n",
            "    |  |     |  |____.----)   |      |  |     |  | |  |\\   | |  |__| | \n",
            "    |__|     |_______|_______/       |__|     |__| |__| \\__|  \\______| \n",
            "                                                                       \n",
            "  ______   .__   __.  _______    .___________.____    __    ____  ______   \n",
            " /  __  \\  |  \\ |  | |   ____|   |           |\\   \\  /  \\  /   / /  __  \\  \n",
            "|  |  |  | |   \\|  | |  |__      `---|  |----` \\   \\/    \\/   / |  |  |  | \n",
            "|  |  |  | |  . `  | |   __|         |  |       \\            /  |  |  |  | \n",
            "|  `--'  | |  |\\   | |  |____        |  |        \\    /\\    /   |  `--'  | \n",
            " \\______/  |__| \\__| |_______|       |__|         \\__/  \\__/     \\______/  \n",
            "                                                                           \n",
            ".___________. __    __  .______       _______  _______ \n",
            "|           ||  |  |  | |   _  \\     |   ____||   ____|\n",
            "`---|  |----`|  |__|  | |  |_)  |    |  |__   |  |__   \n",
            "    |  |     |   __   | |      /     |   __|  |   __|  \n",
            "    |  |     |  |  |  | |  |\\  \\----.|  |____ |  |____ \n",
            "    |__|     |__|  |__| | _| `._____||_______||_______|\n",
            "                                                       \n",
            " _______   ______    __    __  .______      \n",
            "|   ____| /  __  \\  |  |  |  | |   _  \\     \n",
            "|  |__   |  |  |  | |  |  |  | |  |_)  |    \n",
            "|   __|  |  |  |  | |  |  |  | |      /     \n",
            "|  |     |  `--'  | |  `--'  | |  |\\  \\----.\n",
            "|__|      \\______/   \\______/  | _| `._____|\n",
            "                                            \n",
            " _______  __  ____    ____  _______         _______. __  ___   ___ \n",
            "|   ____||  | \\   \\  /   / |   ____|       /       ||  | \\  \\ /  / \n",
            "|  |__   |  |  \\   \\/   /  |  |__         |   (----`|  |  \\  V  /  \n",
            "|   __|  |  |   \\      /   |   __|         \\   \\    |  |   >   <   \n",
            "|  |     |  |    \\    /    |  |____    .----)   |   |  |  /  .  \\  \n",
            "|__|     |__|     \\__/     |_______|   |_______/    |__| /__/ \\__\\ \n",
            "                                                                   \n",
            "\n"
          ]
        }
      ]
    },
    {
      "cell_type": "markdown",
      "metadata": {
        "id": "wXiyORkQqUfz"
      },
      "source": [
        "# Submitting your Script"
      ]
    },
    {
      "cell_type": "markdown",
      "metadata": {
        "id": "eUMXNhytqZY6"
      },
      "source": [
        "Once you have succesfully completed your script, make sure to save it to your github account. (Take a look [at the official colab instructions](https://colab.research.google.com/github/googlecolab/colabtools/blob/master/notebooks/colab-github-demo.ipynb) if you need a refresher.)"
      ]
    }
  ]
}