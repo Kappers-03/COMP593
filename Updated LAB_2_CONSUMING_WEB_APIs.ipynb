{
  "nbformat": 4,
  "nbformat_minor": 0,
  "metadata": {
    "colab": {
      "name": "LAB 2: CONSUMING WEB APIs",
      "provenance": [],
      "toc_visible": true,
      "include_colab_link": true
    },
    "kernelspec": {
      "name": "python3",
      "display_name": "Python 3"
    }
  },
  "cells": [
    {
      "cell_type": "markdown",
      "metadata": {
        "id": "view-in-github",
        "colab_type": "text"
      },
      "source": [
        "<a href=\"https://colab.research.google.com/github/Kappers-03/COMP593/blob/Lab2/Updated%20LAB_2_CONSUMING_WEB_APIs.ipynb\" target=\"_parent\"><img src=\"https://colab.research.google.com/assets/colab-badge.svg\" alt=\"Open In Colab\"/></a>"
      ]
    },
    {
      "cell_type": "markdown",
      "metadata": {
        "id": "EoKZy-QeYU0_"
      },
      "source": [
        "#LAB 2: CONSUMING WEB APIs"
      ]
    },
    {
      "cell_type": "markdown",
      "metadata": {
        "id": "ayyh7BuRYfJo"
      },
      "source": [
        "## Making Network Requests\n",
        "To experiment with consuming web APIs, we are going to use a python Library that will allow us to make HTTP requests. There are several options out there, some are more popular than others. The standard choice would be the [requests](https://2.python-requests.org/en/master/) library, but for the purposes of educating you on the finer points of HTTP Messages, we will be utilizing the [http.client](https://docs.python.org/3/library/http.client.html) library."
      ]
    },
    {
      "cell_type": "markdown",
      "metadata": {
        "id": "VkspyplEZ4sR"
      },
      "source": [
        "As we have learned, the first step to utilizing a library is to  import it into our python script. We will import the `client` object from the `http` module."
      ]
    },
    {
      "cell_type": "code",
      "metadata": {
        "id": "UWFC3bYoYRlx"
      },
      "source": [
        "from http import client"
      ],
      "execution_count": null,
      "outputs": []
    },
    {
      "cell_type": "markdown",
      "metadata": {
        "id": "FJsZPjpqaMnm"
      },
      "source": [
        "Next, we will attempt to create a connection to a host. For the purposes of this demonstration, we will connect to a Fake JSON Api provided to us by [typicode.](https://github.com/typicode)\n",
        "So, let's start by reviewing the [http.client documentation](https://docs.python.org/3/library/http.client.html) and creating a connection object."
      ]
    },
    {
      "cell_type": "code",
      "metadata": {
        "id": "vuasc-tmbAV-",
        "colab": {
          "base_uri": "https://localhost:8080/"
        },
        "outputId": "8b95a796-9969-4279-b64f-5de42a840082"
      },
      "source": [
        "from http import client\n",
        "\n",
        "# Per the documentation, we get a connection object by calling the HTTPConnection() or HTTPSConnection() methods,\n",
        "# with parameters for the address and port.\n",
        "cxn = client.HTTPSConnection('jsonplaceholder.typicode.com', 443)\n",
        "\n",
        "# Let's test our connection by making a HEAD request, validating the HTTP status code, and printing the response headers.\n",
        "cxn.request('HEAD', '/')\n",
        "\n",
        "response = cxn.getresponse()\n",
        "\n",
        "if response.status is 200:\n",
        "  print('Response:',response.status, '🎉🎉🎉', '\\n')\n",
        "else:\n",
        "  print('Uh Oh, got',response.status)\n",
        "\n",
        "print(response.headers)"
      ],
      "execution_count": null,
      "outputs": [
        {
          "output_type": "stream",
          "name": "stdout",
          "text": [
            "Response: 200 🎉🎉🎉 \n",
            "\n",
            "Date: Mon, 07 Feb 2022 17:48:53 GMT\n",
            "Content-Type: text/html; charset=UTF-8\n",
            "Connection: keep-alive\n",
            "x-powered-by: Express\n",
            "x-ratelimit-limit: 1000\n",
            "x-ratelimit-remaining: 999\n",
            "x-ratelimit-reset: 1644203211\n",
            "vary: Origin, Accept-Encoding\n",
            "access-control-allow-credentials: true\n",
            "cache-control: public, max-age=43200\n",
            "last-modified: Sun, 06 Feb 2022 21:59:25 GMT\n",
            "via: 1.1 vegur\n",
            "CF-Cache-Status: HIT\n",
            "Age: 24157\n",
            "Expect-CT: max-age=604800, report-uri=\"https://report-uri.cloudflare.com/cdn-cgi/beacon/expect-ct\"\n",
            "Report-To: {\"endpoints\":[{\"url\":\"https:\\/\\/a.nel.cloudflare.com\\/report\\/v3?s=h1qj9To6zfiWFPGD5D2KM2zsN5EOlsyC9dl3AeqjQWikcwSAqSnA5179c8VNFvKuhEOWRDqaASX8oC82%2FUcJp1cXqqFMBLA5iALiTdj5cjCyNZi1B5kOI8mtgztlrduySnPbssamb%2BWhWnDX4TYU\"}],\"group\":\"cf-nel\",\"max_age\":604800}\n",
            "NEL: {\"success_fraction\":0,\"report_to\":\"cf-nel\",\"max_age\":604800}\n",
            "Server: cloudflare\n",
            "CF-RAY: 6d9e73a07cccc19d-IAD\n",
            "alt-svc: h3=\":443\"; ma=86400, h3-29=\":443\"; ma=86400\n",
            "\n",
            "\n"
          ]
        }
      ]
    },
    {
      "cell_type": "markdown",
      "metadata": {
        "id": "_qwpsJKreFSj"
      },
      "source": [
        "Awesome! A 200 status code means everything is g2g. For information about what the different status codes retured from HTTP Requests, [look here.](https://developer.mozilla.org/en-US/docs/Web/HTTP/Status) If you received anything other than a 200 Status code, try reloading the Notebook, ensuring you didn't accidentally make any changes."
      ]
    },
    {
      "cell_type": "markdown",
      "metadata": {
        "id": "1dr6bRGJfK5N"
      },
      "source": [
        "## JSON: The Language of APIs\n",
        "\n",
        "JSON (**J**ava**S**cript **O**bject **N**otation) is a messaging standard that was formalized in 2014 based on specifications of the JavaScript Standard introduced in 1999. In it's simplest form, it is an object containing a collection of `key` and `value` pairs. Values can be any primitive data types such as `boolean`, `integer`, `float`, or `string` but can also be nested `objects` or `arrays`.\n",
        "Almost every language provides an interface to be able to encode or decode JSON objects into a native format.\n",
        "\n",
        "In the case of python, we can decode JSON objects to `dictionaries`, and vice versa. See the example below:"
      ]
    },
    {
      "cell_type": "code",
      "metadata": {
        "id": "tB53-AfEg1sW"
      },
      "source": [
        "import json\n",
        "\n",
        "#Given the following Dictionary\n",
        "values = dict([('first_name', 'Homer'), ('last_name', 'Simpson'), ('city', 'Springfield'), ('occupation', 'Nuclear Technician')])\n",
        "\n",
        "#We can convert a dictionary to using using the json.dumps() method\n",
        "jsonObject = json.dumps(values)\n",
        "print(jsonObject, '\\n')\n",
        "\n",
        "#Alternatively, given JSON, we can convert to a Dictionary object using the json.loads() method\n",
        "dictionary = json.loads(jsonObject)\n",
        "print(dictionary['first_name'], dictionary['last_name'])"
      ],
      "execution_count": null,
      "outputs": []
    },
    {
      "cell_type": "markdown",
      "metadata": {
        "id": "ceieILkVovku"
      },
      "source": [
        "Taking a look at the Documentation for the [fake API](https://jsonplaceholder.typicode.com/), it returns JSON objects for requests it receives. Let's try and combine what we've learned to get the Email Address of the User with ID 10."
      ]
    },
    {
      "cell_type": "code",
      "metadata": {
        "id": "F--Bluq4pY4j",
        "colab": {
          "base_uri": "https://localhost:8080/",
          "height": 669
        },
        "outputId": "a4e3ae4b-9581-4aaf-9446-a010e5fdc3ad"
      },
      "source": [
        "from http import client\n",
        "import json\n",
        "\n",
        "# Per the documentation, we get a connection object by calling the HTTPConnection() or HTTPSConnection() methods,\n",
        "# with parameters for the address and port.\n",
        "cxn = client.HTTPSConnection('jsonplaceholder.typicode.com', 443)\n",
        "\n",
        "# In order to make our request, we will need to modify the method from our previous example to a GET request for the resource at '/users/10'.\n",
        "# When you're ready, uncomment the method call below.\n",
        "cxn.request('GET', '/users/10')\n",
        "\n",
        "response = cxn.getresponse()\n",
        "if response.status is 200:\n",
        "  print('Response:',response.status, '🎉🎉🎉', '\\n')\n",
        "else:\n",
        "  print('Uh Oh, got',response.status)\n",
        "\n",
        "#If everything goes well, this should contain the JSON response from the API.\n",
        "jsonData = response.read().decode()\n",
        "print(jsonData)\n",
        "\n",
        "#Next, go ahead and convert the jsonData string to a Dictionary, and print the email address.\n",
        "#Look at the example above for some pointers on how to accomplish that.\n",
        "dictionary = json.loads(jsonData)\n",
        "print(\"Email:\", dictionary['email'])\n",
        "\n"
      ],
      "execution_count": null,
      "outputs": [
        {
          "output_type": "stream",
          "name": "stdout",
          "text": [
            "Response: 200 🎉🎉🎉 \n",
            "\n",
            "{\n",
            "  \"id\": 10,\n",
            "  \"name\": \"Clementina DuBuque\",\n",
            "  \"username\": \"Moriah.Stanton\",\n",
            "  \"email\": \"Rey.Padberg@karina.biz\",\n",
            "  \"address\": {\n",
            "    \"street\": \"Kattie Turnpike\",\n",
            "    \"suite\": \"Suite 198\",\n",
            "    \"city\": \"Lebsackbury\",\n",
            "    \"zipcode\": \"31428-2261\",\n",
            "    \"geo\": {\n",
            "      \"lat\": \"-38.2386\",\n",
            "      \"lng\": \"57.2232\"\n",
            "    }\n",
            "  },\n",
            "  \"phone\": \"024-648-3804\",\n",
            "  \"website\": \"ambrose.net\",\n",
            "  \"company\": {\n",
            "    \"name\": \"Hoeger LLC\",\n",
            "    \"catchPhrase\": \"Centralized empowering task-force\",\n",
            "    \"bs\": \"target end-to-end models\"\n",
            "  }\n",
            "}\n",
            "Email: Rey.Padberg@karina.biz\n"
          ]
        },
        {
          "output_type": "error",
          "ename": "KeyError",
          "evalue": "ignored",
          "traceback": [
            "\u001b[0;31m---------------------------------------------------------------------------\u001b[0m",
            "\u001b[0;31mKeyError\u001b[0m                                  Traceback (most recent call last)",
            "\u001b[0;32m<ipython-input-12-8d77129254cc>\u001b[0m in \u001b[0;36m<module>\u001b[0;34m()\u001b[0m\n\u001b[1;32m     24\u001b[0m \u001b[0mdictionary\u001b[0m \u001b[0;34m=\u001b[0m \u001b[0mjson\u001b[0m\u001b[0;34m.\u001b[0m\u001b[0mloads\u001b[0m\u001b[0;34m(\u001b[0m\u001b[0mjsonData\u001b[0m\u001b[0;34m)\u001b[0m\u001b[0;34m\u001b[0m\u001b[0;34m\u001b[0m\u001b[0m\n\u001b[1;32m     25\u001b[0m \u001b[0mprint\u001b[0m\u001b[0;34m(\u001b[0m\u001b[0;34m\"Email:\"\u001b[0m\u001b[0;34m,\u001b[0m \u001b[0mdictionary\u001b[0m\u001b[0;34m[\u001b[0m\u001b[0;34m'email'\u001b[0m\u001b[0;34m]\u001b[0m\u001b[0;34m)\u001b[0m\u001b[0;34m\u001b[0m\u001b[0;34m\u001b[0m\u001b[0m\n\u001b[0;32m---> 26\u001b[0;31m \u001b[0mprint\u001b[0m\u001b[0;34m(\u001b[0m\u001b[0;34m\"Email:\"\u001b[0m\u001b[0;34m,\u001b[0m \u001b[0mdictionary\u001b[0m\u001b[0;34m[\u001b[0m\u001b[0;34m'city'\u001b[0m\u001b[0;34m]\u001b[0m\u001b[0;34m)\u001b[0m\u001b[0;34m\u001b[0m\u001b[0;34m\u001b[0m\u001b[0m\n\u001b[0m\u001b[1;32m     27\u001b[0m \u001b[0mprint\u001b[0m\u001b[0;34m(\u001b[0m\u001b[0;34m\"Email:\"\u001b[0m\u001b[0;34m,\u001b[0m \u001b[0mdictionary\u001b[0m\u001b[0;34m[\u001b[0m\u001b[0;34m'email'\u001b[0m\u001b[0;34m]\u001b[0m\u001b[0;34m)\u001b[0m\u001b[0;34m\u001b[0m\u001b[0;34m\u001b[0m\u001b[0m\n",
            "\u001b[0;31mKeyError\u001b[0m: 'city'"
          ]
        }
      ]
    },
    {
      "cell_type": "markdown",
      "metadata": {
        "id": "pPObsy_av_Ic"
      },
      "source": [
        "## Lab Submission\n",
        "\n",
        "For your Lab Submission, you will create a script that accomplishes the following goals:\n",
        "\n",
        "1.   Review the Documentation for the [PokeApi](https://pokeapi.co/)\n",
        "2.   Make a GET request to the correct endpoint to get information about any Pokemon.\n",
        "3.   Convert that Data from a JSON object to a Dictionary\n",
        "4.   Using that Dictonary, craft a string that will provide the `name`, `weight` and list of names of `types`\n",
        "5. Make an HTTP POST request using the Provided PasteBin API key to upload your crafted string. If successful, you will receive the URL of the PasteBin Document in the response of the POST request.\n",
        "6. That Link, and the code within this Notebook, will be your submission.\n",
        "\n"
      ]
    },
    {
      "cell_type": "code",
      "metadata": {
        "id": "lZswmCEKyHj8",
        "colab": {
          "base_uri": "https://localhost:8080/"
        },
        "outputId": "3d524ac3-f126-4f09-d958-ec8b857360f8"
      },
      "source": [
        "from http import client\n",
        "import urllib\n",
        "import json\n",
        "\n",
        "#HINT: You may want to create two different HTTPSConnection() objects for each API.\n",
        "pokeApi = client.HTTPSConnection('pokeapi.co', 443)\n",
        "pasteBin= client.HTTPSConnection('pastebin.com', 443)\n",
        "\n",
        "#Get the info of the pokemon\n",
        "pokeApi.request('GET','/api/v2/pokemon/pikachu')\n",
        "\n",
        "#See if you get a responce\n",
        "response1 = pokeApi.getresponse()\n",
        "if response1.status is 200:\n",
        "  print('Woohoo! We got a responce of:',response1.status, '!', '\\n')\n",
        "else:\n",
        "  print('Houston we got a problem, responce is:',response1.status)\n",
        "\n",
        "#If the responce is good, print out the poke responce.\n",
        "jsonData = response1.read().decode()\n",
        "print(\"Information has been gathered sucessfully! \\n\")\n",
        "\n",
        "#Start the dictionary\n",
        "dictionary = json.loads(jsonData)\n",
        "print(\"   PokeInfo Generator 3000     \")\n",
        "print(\"Name:\", dictionary['name'])\n",
        "print(\"Weight:\", dictionary['weight'])\n",
        "for pokeType in dictionary['types']:\n",
        "  print(\"Type:\", dictionary['types'][0]['type']['name'])\n",
        "print(\"\\n\")\n",
        "\n",
        "#Refer to the documentation at https://pastebin.com/doc_api for instructions on these parameters\n",
        "\n",
        "#Get the pastebin \n",
        "if response.status is 200:\n",
        "  print('Woohoo! We got another responce of:',response.status, '!')\n",
        "else:\n",
        "  print('Houston we got a problem, responce is:',response.status)\n",
        "\n",
        "requestParams = {\n",
        "    'api_dev_key': \"f4R0OTFza_qTQ1NZJYLjoCeLqoHQux4X\",\n",
        "    'api_option': 'paste',\n",
        "    'api_paste_code': pokeApi\n",
        "}\n",
        "\n",
        "#This additional Method call will convert the Dictionary to a URL-Encoded string for PasteBin,\n",
        "#Include this string as the body of your call to the HTTPConnection.request() method for your pasteBin connection.\n",
        "requestBody = urllib.parse.urlencode(requestParams)\n",
        "\n",
        "#Since we are URLEncoding the request Body, we need to tell Pastebin that it can expect x-www-form-urlencoded content, by adding this information to the request header\n",
        "pasteBinHeaders = {'Content-Type': 'application/x-www-form-urlencoded'}\n",
        "\n",
        "#When you are ready, you will pass the requestBody and the pasteBinHeaders to a pastebin request object, filling in the parameters as necessary.\n",
        "pasteBinRequest = pasteBin.request(\"POST\", '/api/api_post.php', body=requestBody, headers=pasteBinHeaders)\n",
        "\n",
        "\n"
      ],
      "execution_count": 29,
      "outputs": [
        {
          "output_type": "stream",
          "name": "stdout",
          "text": [
            "Woohoo! We got a responce of: 200 ! \n",
            "\n",
            "Information has been gathered sucessfully! \n",
            "\n",
            "   PokeInfo Generator 3000     \n",
            "Name: pikachu\n",
            "Weight: 60\n",
            "Type: electric\n",
            "\n",
            "\n",
            "Woohoo! We got another responce of: 200 !\n"
          ]
        }
      ]
    }
  ]
}